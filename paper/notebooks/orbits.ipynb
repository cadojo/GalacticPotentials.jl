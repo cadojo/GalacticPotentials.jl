{
 "cells": [
  {
   "cell_type": "markdown",
   "metadata": {},
   "source": [
    "# Orbits in Galactic Potential Fields"
   ]
  },
  {
   "cell_type": "code",
   "execution_count": null,
   "metadata": {},
   "outputs": [],
   "source": [
    "import Pkg\n",
    "Pkg.activate(\"..\")\n",
    "Pkg.instantiate()\n",
    "Pkg.update(\"GalacticPotentials\")\n",
    "\n",
    "using Plots\n",
    "plotlyjs()\n",
    "\n",
    "using ModelingToolkit, DifferentialEquations\n",
    "using AstrodynamicalModels, GalacticPotentials\n",
    "\n",
    "using CommonLicenses: MIT\n",
    "MIT(copyright=\"Joseph D Carpinelli\")"
   ]
  },
  {
   "cell_type": "code",
   "execution_count": null,
   "metadata": {},
   "outputs": [],
   "source": [
    "PlummerPotential().value"
   ]
  },
  {
   "cell_type": "code",
   "execution_count": null,
   "metadata": {},
   "outputs": [],
   "source": [
    "ODESystem(PlummerPotential())"
   ]
  },
  {
   "cell_type": "code",
   "execution_count": null,
   "metadata": {},
   "outputs": [],
   "source": [
    "let model = ODESystem(PlummerPotential())\n",
    "\n",
    "    p = @nonamespace Dict(\n",
    "        model.G => 6.6743e-20, # km³kg⁻¹s⁻²\n",
    "        model.m => 5.97219e31, # kg\n",
    "        model.b => 1e-6\n",
    "    )\n",
    "\n",
    "    u0 = @nonamespace Dict(\n",
    "        model.x => 11e5, \n",
    "        model.y => 5e5, \n",
    "        model.z => 0,\n",
    "        model.Δx => 1e3, \n",
    "        model.Δy => 1e3, \n",
    "        model.Δz => 0\n",
    "    )\n",
    "\n",
    "    ts = (0.0, 1e6)\n",
    "\n",
    "    problem = ODEProblem(model, u0, ts, p)\n",
    "    solution = solve(problem; reltol=1e-14, abstol=1e-14)\n",
    "\n",
    "    plot(solution; idxs=(:x,:y), label=:none, aspect_ratio=:equal)\n",
    "end\n"
   ]
  },
  {
   "cell_type": "code",
   "execution_count": null,
   "metadata": {},
   "outputs": [],
   "source": []
  }
 ],
 "metadata": {
  "kernelspec": {
   "display_name": "Julia 1.9.4",
   "language": "julia",
   "name": "julia-1.9"
  },
  "language_info": {
   "file_extension": ".jl",
   "mimetype": "application/julia",
   "name": "julia",
   "version": "1.9.4"
  }
 },
 "nbformat": 4,
 "nbformat_minor": 2
}

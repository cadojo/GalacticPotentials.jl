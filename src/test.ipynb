{
 "cells": [
  {
   "cell_type": "markdown",
   "metadata": {},
   "source": [
    "$$\\frac{G \\alpha m \\gamma\\left(1.5 - \\frac{\\alpha}{2}, \\frac{x^{2} + y^{2} + z^{2}}{r_{c}^{2}}\\right)}{2 \\sqrt{x^{2} + y^{2} + z^{2}} \\Gamma\\left(2.5 - \\frac{\\alpha}{2}\\right)} - \\frac{3 G m \\gamma\\left(1.5 - \\frac{\\alpha}{2}, \\frac{x^{2} + y^{2} + z^{2}}{r_{c}^{2}}\\right)}{2 \\sqrt{x^{2} + y^{2} + z^{2}} \\Gamma\\left(2.5 - \\frac{\\alpha}{2}\\right)} + \\frac{G m \\gamma\\left(1 - \\frac{\\alpha}{2}, \\frac{x^{2} + y^{2} + z^{2}}{r_{c}^{2}}\\right)}{r_{c} \\Gamma\\left(1.5 - \\frac{\\alpha}{2}\\right)}$$"
   ]
  },
  {
   "cell_type": "markdown",
   "metadata": {},
   "source": []
  }
 ],
 "metadata": {
  "language_info": {
   "name": "python"
  }
 },
 "nbformat": 4,
 "nbformat_minor": 2
}
